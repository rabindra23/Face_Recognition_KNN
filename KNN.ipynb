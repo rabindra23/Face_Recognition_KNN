{
 "cells": [
  {
   "cell_type": "code",
   "execution_count": null,
   "metadata": {},
   "outputs": [],
   "source": [
    "############ KNN CODE ##############\n",
    "def distance(v1,v2):\n",
    "    return np.sqrt(sum(v1-v2)**2)\n",
    "\n",
    "def knn(train,test, k=5):\n",
    "    dist[]\n",
    "    \n",
    "    for i in range(train.shape[0]):\n",
    "        # get the vector and label\n",
    "        ix = train[i, :-1]\n",
    "        iy = train[i, -1]\n",
    "        # compute the distance from test point\n",
    "        d = distance(test, ix)\n",
    "        dist.append([d, iy])\n",
    "        \n",
    "    # sort based on distance and get top k\n",
    "    dk = sorted(dist, key=lambda x:x[0])[:k]\n",
    "    # retrieve only the labels\n",
    "    labels = np.array(dk)[:, -1]\n",
    "\n",
    "    # get frequencies of each label\n",
    "    output = np.unique(labels, return_counts=True)\n",
    "    # find max frequency and corresponding label\n",
    "    index = np.armax(output[1])\n",
    "    return output[0][index]\n",
    "####################################"
   ]
  }
 ],
 "metadata": {
  "kernelspec": {
   "display_name": "Python 3",
   "language": "python",
   "name": "python3"
  },
  "language_info": {
   "codemirror_mode": {
    "name": "ipython",
    "version": 3
   },
   "file_extension": ".py",
   "mimetype": "text/x-python",
   "name": "python",
   "nbconvert_exporter": "python",
   "pygments_lexer": "ipython3",
   "version": "3.9.0"
  }
 },
 "nbformat": 4,
 "nbformat_minor": 4
}
